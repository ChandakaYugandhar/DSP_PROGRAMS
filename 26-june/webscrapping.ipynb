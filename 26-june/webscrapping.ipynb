{
 "cells": [
  {
   "cell_type": "markdown",
   "metadata": {},
   "source": [
    "# Web Scrapping\n"
   ]
  },
  {
   "cell_type": "code",
   "execution_count": null,
   "metadata": {},
   "outputs": [],
   "source": [
    "import requests\n",
    "from bs4 import BeautifulSoup\n",
    "#Scrapping the data\n",
    "url=\"https://www.flipkart.com/\"\n",
    "page=requests.get(url)\n",
    "soup=BeautifulSoup(page.content,'html.parser')\n",
    "soup"
   ]
  },
  {
   "cell_type": "markdown",
   "metadata": {},
   "source": [
    "# Finding titles\n"
   ]
  },
  {
   "cell_type": "code",
   "execution_count": 4,
   "metadata": {},
   "outputs": [
    {
     "name": "stdout",
     "output_type": "stream",
     "text": [
      "Infinix HOT 12 Play (Horizon Blue, 64 GB)\n",
      "Infinix HOT 12 Play (Daylight Green, 64 GB)\n",
      "realme Narzo 50 (Speed Blue, 64 GB)\n",
      "I Kall Z1 (Dark Blue, 32 GB)\n",
      "Infinix HOT 12 Play (Racing Black, 64 GB)\n",
      "REDMI 10 (Pacific Blue, 64 GB)\n",
      "realme Narzo 50 (Speed Blue, 128 GB)\n",
      "I Kall Z10 (Cyan, 64 GB)\n",
      "realme Narzo 50 (Speed Black, 128 GB)\n",
      "REDMI 10 (Midnight Black, 64 GB)\n",
      "REDMI 10 (Caribbean Green, 64 GB)\n",
      "I Kall K 18 NEW\n",
      "realme Narzo 50 (Speed Black, 64 GB)\n",
      "APPLE iPhone 11 (Black, 64 GB)\n",
      "realme 9i (Prism Blue, 128 GB)\n",
      "I Kall Z2 PRO (Dark Blue, 16 GB)\n",
      "realme 9 5G (Supersonic Black, 64 GB)\n",
      "realme 9 5G (Stargaze White, 128 GB)\n",
      "realme 9 5G (Supersonic Blue, 64 GB)\n",
      "I Kall K16 New\n",
      "realme 9 5G (Supersonic Black, 128 GB)\n",
      "realme 9 5G (Meteor Black, 64 GB)\n",
      "realme 9i (Prism Blue, 64 GB)\n",
      "I Kall Z1 Premium (Grey, 32 GB)\n"
     ]
    }
   ],
   "source": [
    "import requests\n",
    "from bs4 import BeautifulSoup\n",
    "import pandas as p\n",
    "#Scrapping the data\n",
    "url=\"https://www.flipkart.com/search?q=mobiles&otracker=search&otracker1=search&marketplace=FLIPKART&as-show=off&as=off\"\n",
    "page=requests.get(url)\n",
    "soup=BeautifulSoup(page.content,'html.parser')\n",
    "title=soup.find_all('div',class_=\"_4rR01T\")\n",
    "for i in title:\n",
    "    print(i.text)"
   ]
  },
  {
   "cell_type": "code",
   "execution_count": 5,
   "metadata": {},
   "outputs": [],
   "source": [
    "links=soup.findAll('div',class_=\"_1kidPb\")\n",
    "for i in links:\n",
    "    j=i.a[\"href\"]\n",
    "    print(j)\n"
   ]
  },
  {
   "cell_type": "code",
   "execution_count": 9,
   "metadata": {},
   "outputs": [
    {
     "name": "stdout",
     "output_type": "stream",
     "text": [
      "₹8,999\n"
     ]
    }
   ],
   "source": [
    "prices=soup.find('div',class_=\"_30jeq3 _1_WHN1\")\n",
    "for i in prices:\n",
    "    print(i)"
   ]
  },
  {
   "cell_type": "code",
   "execution_count": 6,
   "metadata": {},
   "outputs": [
    {
     "name": "stdout",
     "output_type": "stream",
     "text": [
      "25,798 Ratings & 2,226 Reviews\n",
      "25,798 Ratings & 2,226 Reviews\n",
      "4,298 Ratings & 243 Reviews\n",
      "642 Ratings & 69 Reviews\n",
      "25,798 Ratings & 2,226 Reviews\n",
      "40,700 Ratings & 2,540 Reviews\n",
      "530 Ratings & 38 Reviews\n",
      "59 Ratings & 3 Reviews\n",
      "530 Ratings & 38 Reviews\n",
      "40,700 Ratings & 2,540 Reviews\n",
      "40,700 Ratings & 2,540 Reviews\n",
      "5,476 Ratings & 477 Reviews\n",
      "4,298 Ratings & 243 Reviews\n",
      "89,329 Ratings & 6,671 Reviews\n",
      "18,610 Ratings & 1,135 Reviews\n",
      "21,645 Ratings & 1,127 Reviews\n",
      "8,495 Ratings & 570 Reviews\n",
      "21,645 Ratings & 1,127 Reviews\n",
      "230 Ratings & 11 Reviews\n",
      "8,495 Ratings & 570 Reviews\n",
      "21,645 Ratings & 1,127 Reviews\n",
      "66,723 Ratings & 3,700 Reviews\n",
      "58 Ratings & 7 Reviews\n"
     ]
    }
   ],
   "source": [
    "reviews=soup.findAll('span',class_=\"_2_R_DZ\")\n",
    "for i in reviews:\n",
    "    print(i.text)"
   ]
  },
  {
   "cell_type": "code",
   "execution_count": 7,
   "metadata": {},
   "outputs": [
    {
     "name": "stdout",
     "output_type": "stream",
     "text": [
      "25,798 Ratings & 2,226 Reviews\n",
      "25,798 Ratings & 2,226 Reviews\n",
      "4,298 Ratings & 243 Reviews\n",
      "642 Ratings & 69 Reviews\n",
      "25,798 Ratings & 2,226 Reviews\n",
      "40,700 Ratings & 2,540 Reviews\n",
      "530 Ratings & 38 Reviews\n",
      "59 Ratings & 3 Reviews\n",
      "530 Ratings & 38 Reviews\n",
      "40,700 Ratings & 2,540 Reviews\n",
      "40,700 Ratings & 2,540 Reviews\n",
      "5,476 Ratings & 477 Reviews\n",
      "4,298 Ratings & 243 Reviews\n",
      "89,329 Ratings & 6,671 Reviews\n",
      "18,610 Ratings & 1,135 Reviews\n",
      "21,645 Ratings & 1,127 Reviews\n",
      "8,495 Ratings & 570 Reviews\n",
      "21,645 Ratings & 1,127 Reviews\n",
      "230 Ratings & 11 Reviews\n",
      "8,495 Ratings & 570 Reviews\n",
      "21,645 Ratings & 1,127 Reviews\n",
      "66,723 Ratings & 3,700 Reviews\n",
      "58 Ratings & 7 Reviews\n"
     ]
    }
   ],
   "source": [
    "ratings=soup.findAll('span',class_=\"_2_R_DZ\")\n",
    "for i in ratings:\n",
    "    print(i.text)"
   ]
  },
  {
   "cell_type": "code",
   "execution_count": 15,
   "metadata": {},
   "outputs": [],
   "source": [
    "mt=[]\n",
    "mr=[]\n",
    "mre=[]\n",
    "mp=[]"
   ]
  },
  {
   "cell_type": "code",
   "execution_count": 17,
   "metadata": {},
   "outputs": [],
   "source": [
    "for title,review,rating,pri in zip(title,reviews,ratings,prices):\n",
    "    mt.append(title.text)\n",
    "    mr.append(review.text)\n",
    "    mre.append(rating.text)\n",
    "    mp.append(pri.text)"
   ]
  },
  {
   "cell_type": "code",
   "execution_count": 20,
   "metadata": {},
   "outputs": [],
   "source": [
    "d={'mt':mt,'mr':mr,'mre':mre,'mp':mp}\n",
    "model=p.DataFrame(data=d)\n",
    "model.to_csv(\"mobilesdata.csv\")"
   ]
  },
  {
   "cell_type": "code",
   "execution_count": 17,
   "metadata": {},
   "outputs": [],
   "source": [
    "\n",
    "link=soup.findAll('div',class_=\"_2I9KP_\")\n",
    "for i in link:\n",
    "    j=i.a[\"href\"]\n",
    "    print(j)"
   ]
  },
  {
   "cell_type": "code",
   "execution_count": 46,
   "metadata": {},
   "outputs": [
    {
     "name": "stdout",
     "output_type": "stream",
     "text": [
      "Sort ByRelevancePopularityPrice -- Low to HighPrice -- High to LowNewest First\n"
     ]
    }
   ],
   "source": [
    "links=soup.find_all('div',class_=\"_5THWM1\")\n",
    "for i in links:\n",
    "    print(i.text)"
   ]
  },
  {
   "cell_type": "code",
   "execution_count": null,
   "metadata": {},
   "outputs": [],
   "source": []
  }
 ],
 "metadata": {
  "kernelspec": {
   "display_name": "Python 3 (ipykernel)",
   "language": "python",
   "name": "python3"
  },
  "language_info": {
   "codemirror_mode": {
    "name": "ipython",
    "version": 3
   },
   "file_extension": ".py",
   "mimetype": "text/x-python",
   "name": "python",
   "nbconvert_exporter": "python",
   "pygments_lexer": "ipython3",
   "version": "3.9.7"
  }
 },
 "nbformat": 4,
 "nbformat_minor": 2
}
