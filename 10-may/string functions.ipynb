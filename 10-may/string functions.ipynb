{
 "cells": [
  {
   "cell_type": "code",
   "execution_count": 2,
   "id": "79f3078b",
   "metadata": {},
   "outputs": [
    {
     "data": {
      "text/plain": [
       "'yugandhar'"
      ]
     },
     "execution_count": 2,
     "metadata": {},
     "output_type": "execute_result"
    }
   ],
   "source": [
    "s1='yugandhar'\n",
    "s1"
   ]
  },
  {
   "cell_type": "code",
   "execution_count": 3,
   "id": "4cbd67f5",
   "metadata": {},
   "outputs": [
    {
     "data": {
      "text/plain": [
       "2"
      ]
     },
     "execution_count": 3,
     "metadata": {},
     "output_type": "execute_result"
    }
   ],
   "source": [
    "s1.count(\"a\")"
   ]
  },
  {
   "cell_type": "code",
   "execution_count": 4,
   "id": "f6722dae",
   "metadata": {},
   "outputs": [
    {
     "data": {
      "text/plain": [
       "False"
      ]
     },
     "execution_count": 4,
     "metadata": {},
     "output_type": "execute_result"
    }
   ],
   "source": [
    "s1.isdigit()"
   ]
  },
  {
   "cell_type": "code",
   "execution_count": 5,
   "id": "240dd829",
   "metadata": {},
   "outputs": [
    {
     "data": {
      "text/plain": [
       "True"
      ]
     },
     "execution_count": 5,
     "metadata": {},
     "output_type": "execute_result"
    }
   ],
   "source": [
    "s1.isalpha()"
   ]
  },
  {
   "cell_type": "code",
   "execution_count": 6,
   "id": "4e3dd491",
   "metadata": {},
   "outputs": [
    {
     "data": {
      "text/plain": [
       "True"
      ]
     },
     "execution_count": 6,
     "metadata": {},
     "output_type": "execute_result"
    }
   ],
   "source": [
    "s1.isalnum()"
   ]
  },
  {
   "cell_type": "code",
   "execution_count": 7,
   "id": "45b6e7e8",
   "metadata": {},
   "outputs": [
    {
     "data": {
      "text/plain": [
       "'Yugandhar'"
      ]
     },
     "execution_count": 7,
     "metadata": {},
     "output_type": "execute_result"
    }
   ],
   "source": [
    "s1.capitalize()"
   ]
  },
  {
   "cell_type": "code",
   "execution_count": 8,
   "id": "6dd2fb39",
   "metadata": {},
   "outputs": [
    {
     "data": {
      "text/plain": [
       "'yugandhar'"
      ]
     },
     "execution_count": 8,
     "metadata": {},
     "output_type": "execute_result"
    }
   ],
   "source": [
    "s1.lower()"
   ]
  },
  {
   "cell_type": "code",
   "execution_count": 9,
   "id": "b965d203",
   "metadata": {},
   "outputs": [
    {
     "data": {
      "text/plain": [
       "'YUGANDHAR'"
      ]
     },
     "execution_count": 9,
     "metadata": {},
     "output_type": "execute_result"
    }
   ],
   "source": [
    "s1.upper()"
   ]
  },
  {
   "cell_type": "code",
   "execution_count": 10,
   "id": "ecabda60",
   "metadata": {},
   "outputs": [
    {
     "data": {
      "text/plain": [
       "'Yugandhar'"
      ]
     },
     "execution_count": 10,
     "metadata": {},
     "output_type": "execute_result"
    }
   ],
   "source": [
    "s1.title()"
   ]
  },
  {
   "cell_type": "code",
   "execution_count": 12,
   "id": "7dc46e08",
   "metadata": {},
   "outputs": [
    {
     "data": {
      "text/plain": [
       "('yuga', 'n', 'dhar')"
      ]
     },
     "execution_count": 12,
     "metadata": {},
     "output_type": "execute_result"
    }
   ],
   "source": [
    "s1.partition(\"n\")"
   ]
  },
  {
   "cell_type": "code",
   "execution_count": 14,
   "id": "b089c61c",
   "metadata": {},
   "outputs": [
    {
     "data": {
      "text/plain": [
       "['yuga', 'dhar']"
      ]
     },
     "execution_count": 14,
     "metadata": {},
     "output_type": "execute_result"
    }
   ],
   "source": [
    "s1.split(\"n\")"
   ]
  },
  {
   "cell_type": "code",
   "execution_count": 17,
   "id": "04bc57e9",
   "metadata": {},
   "outputs": [
    {
     "data": {
      "text/plain": [
       "'yugandhayuggu'"
      ]
     },
     "execution_count": 17,
     "metadata": {},
     "output_type": "execute_result"
    }
   ],
   "source": [
    "s1.replace(\"r\",\"yuggu\")"
   ]
  },
  {
   "cell_type": "code",
   "execution_count": 20,
   "id": "754e0f5b",
   "metadata": {},
   "outputs": [
    {
     "data": {
      "text/plain": [
       "'yugandhar'"
      ]
     },
     "execution_count": 20,
     "metadata": {},
     "output_type": "execute_result"
    }
   ],
   "source": [
    "s1"
   ]
  },
  {
   "cell_type": "code",
   "execution_count": 21,
   "id": "d1f15e81",
   "metadata": {},
   "outputs": [
    {
     "data": {
      "text/plain": [
       "False"
      ]
     },
     "execution_count": 21,
     "metadata": {},
     "output_type": "execute_result"
    }
   ],
   "source": [
    "s1.isspace()"
   ]
  },
  {
   "cell_type": "code",
   "execution_count": 22,
   "id": "1985c41c",
   "metadata": {},
   "outputs": [
    {
     "data": {
      "text/plain": [
       "'gowshik'"
      ]
     },
     "execution_count": 22,
     "metadata": {},
     "output_type": "execute_result"
    }
   ],
   "source": [
    "s2=\"gowshik\"\n",
    "s2"
   ]
  },
  {
   "cell_type": "code",
   "execution_count": 29,
   "id": "b5922f57",
   "metadata": {},
   "outputs": [],
   "source": [
    "a=s2.replace(\"w\",\"u\")"
   ]
  },
  {
   "cell_type": "code",
   "execution_count": 30,
   "id": "c2cd0114",
   "metadata": {},
   "outputs": [
    {
     "data": {
      "text/plain": [
       "'goushik'"
      ]
     },
     "execution_count": 30,
     "metadata": {},
     "output_type": "execute_result"
    }
   ],
   "source": [
    "a"
   ]
  },
  {
   "cell_type": "code",
   "execution_count": 33,
   "id": "85df9636",
   "metadata": {},
   "outputs": [
    {
     "data": {
      "text/plain": [
       "'gowshik'"
      ]
     },
     "execution_count": 33,
     "metadata": {},
     "output_type": "execute_result"
    }
   ],
   "source": [
    "s2"
   ]
  },
  {
   "cell_type": "code",
   "execution_count": 34,
   "id": "b0e747ad",
   "metadata": {},
   "outputs": [
    {
     "data": {
      "text/plain": [
       "'\\t'"
      ]
     },
     "execution_count": 34,
     "metadata": {},
     "output_type": "execute_result"
    }
   ],
   "source": [
    "s3=\"\\t\"\n",
    "s3"
   ]
  },
  {
   "cell_type": "code",
   "execution_count": 35,
   "id": "bcc821da",
   "metadata": {},
   "outputs": [
    {
     "data": {
      "text/plain": [
       "True"
      ]
     },
     "execution_count": 35,
     "metadata": {},
     "output_type": "execute_result"
    }
   ],
   "source": [
    "s3.isspace()"
   ]
  },
  {
   "cell_type": "code",
   "execution_count": null,
   "id": "4b7cc641",
   "metadata": {},
   "outputs": [],
   "source": []
  }
 ],
 "metadata": {
  "kernelspec": {
   "display_name": "Python 3 (ipykernel)",
   "language": "python",
   "name": "python3"
  },
  "language_info": {
   "codemirror_mode": {
    "name": "ipython",
    "version": 3
   },
   "file_extension": ".py",
   "mimetype": "text/x-python",
   "name": "python",
   "nbconvert_exporter": "python",
   "pygments_lexer": "ipython3",
   "version": "3.9.7"
  }
 },
 "nbformat": 4,
 "nbformat_minor": 5
}
